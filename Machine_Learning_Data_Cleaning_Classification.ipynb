{
 "cells": [
  {
   "cell_type": "markdown",
   "id": "56ab8b10",
   "metadata": {},
   "source": [
    "# Predicting chronic kidney disease"
   ]
  },
  {
   "cell_type": "markdown",
   "id": "21623f5b",
   "metadata": {},
   "source": [
    "# Abstract\n",
    "Learning project using supervised machine learning algorithms (logistic regression, k nearest neighbour and random forests available in python package sklearn) to predict chronic kidney disease (CKD) based off a large list of features. High recall values were consistently obtained in each algorithm indicating a low rate of false negatives - a valued feature of disease diagnosis algorithms. The dataset was cleaned - replaced erroneous values, fixed datatypes and addressed missing entries. Three different methods of missing entry replacement was performed. On average it is found that logistic regression and k nearest neighbour algorithms perform best by retaining as many features as possible, replacing missing entries with the mean the feature. Random forest algorithms showed no preference on method of data replacement. "
   ]
  },
  {
   "cell_type": "markdown",
   "id": "d2288db2",
   "metadata": {},
   "source": [
    "# Contents\n",
    "<ul>\n",
    "    <li>\n",
    "      Dataset\n",
    "    </li>\n",
    "    <li>\n",
    "      Data cleaning (errors and converting datatype)\n",
    "      <ul>\n",
    "          <li>Removing redundant features</li>\n",
    "          <li>\n",
    "              Categoric features\n",
    "              <ul>\n",
    "                  <li>Removing erroneous entries</li>\n",
    "                  <li>Dummy variables</li>\n",
    "              </ul>\n",
    "          </li>\n",
    "          <li>\n",
    "              Numeric features\n",
    "              <ul>\n",
    "                  <li>Removing erroneous entries</li>\n",
    "                  <li>Correcting datatype of numeric strings</li>\n",
    "              </ul>\n",
    "          </li>\n",
    "      </ul>\n",
    "  </li>\n",
    "  <li>\n",
    "       Data visualisation\n",
    "  </li>\n",
    "  <li>\n",
    "       Data cleaning (missing values)\n",
    "       <ul>\n",
    "          <li>Reduce dataset due to sparse missing entries</li>\n",
    "          <li>Create datasets with different cleaning methods\n",
    "              <ul>\n",
    "                  <li>Dataset 0 - Remove any features with missing entries</li>\n",
    "                  <li>Dataset 1 - Remove subset of features with few missing entries, inpute average for remaining missing entries</li> \n",
    "              <li>Dataset 2 - Impute average for all missing entries</li> \n",
    "              </ul>\n",
    "       </ul>\n",
    "  </li>\n",
    "  <li>\n",
    "       Machine learning<ul>\n",
    "    <li>Logistical regression</li>\n",
    "    <li>K nearest neighbours</li>\n",
    "    <li>Random forest decision trees</li>\n",
    "    </ul>\n",
    "  </li>\n",
    "  <li>Conclusion</li>\n",
    "</ul>"
   ]
  },
  {
   "cell_type": "markdown",
   "id": "3f71dbfa",
   "metadata": {},
   "source": [
    "# Dataset\n",
    "Import dataset as a DataFrame from the pandas library. Dataset from kaggle.com (https://www.kaggle.com/datasets/mansoordaku/ckdisease)."
   ]
  },
  {
   "cell_type": "code",
   "execution_count": 1,
   "id": "d843db37",
   "metadata": {},
   "outputs": [],
   "source": [
    "import numpy as np\n",
    "import pandas as pd\n",
    "import seaborn as sns\n",
    "import matplotlib.pyplot as plt\n",
    "%matplotlib inline"
   ]
  },
  {
   "cell_type": "code",
   "execution_count": 2,
   "id": "0261df38",
   "metadata": {},
   "outputs": [],
   "source": [
    "df = pd.read_csv('kidney_disease.csv')"
   ]
  },
  {
   "cell_type": "markdown",
   "id": "15b81a87",
   "metadata": {},
   "source": [
    "Dataset contains 400 rows (patients) with each patient being described by 26 features. One of these features is the id of the patient, another feature descibres if they have chronic kidney disease (CKD), the remaining features give information on the patients which will ultimetely be used to predict if the patient has CKD."
   ]
  },
  {
   "cell_type": "code",
   "execution_count": 3,
   "id": "4b36a22b",
   "metadata": {},
   "outputs": [
    {
     "data": {
      "text/html": [
       "<div>\n",
       "<style scoped>\n",
       "    .dataframe tbody tr th:only-of-type {\n",
       "        vertical-align: middle;\n",
       "    }\n",
       "\n",
       "    .dataframe tbody tr th {\n",
       "        vertical-align: top;\n",
       "    }\n",
       "\n",
       "    .dataframe thead th {\n",
       "        text-align: right;\n",
       "    }\n",
       "</style>\n",
       "<table border=\"1\" class=\"dataframe\">\n",
       "  <thead>\n",
       "    <tr style=\"text-align: right;\">\n",
       "      <th></th>\n",
       "      <th>id</th>\n",
       "      <th>age</th>\n",
       "      <th>bp</th>\n",
       "      <th>sg</th>\n",
       "      <th>al</th>\n",
       "      <th>su</th>\n",
       "      <th>rbc</th>\n",
       "      <th>pc</th>\n",
       "      <th>pcc</th>\n",
       "      <th>ba</th>\n",
       "      <th>...</th>\n",
       "      <th>pcv</th>\n",
       "      <th>wc</th>\n",
       "      <th>rc</th>\n",
       "      <th>htn</th>\n",
       "      <th>dm</th>\n",
       "      <th>cad</th>\n",
       "      <th>appet</th>\n",
       "      <th>pe</th>\n",
       "      <th>ane</th>\n",
       "      <th>classification</th>\n",
       "    </tr>\n",
       "  </thead>\n",
       "  <tbody>\n",
       "    <tr>\n",
       "      <th>0</th>\n",
       "      <td>0</td>\n",
       "      <td>48.0</td>\n",
       "      <td>80.0</td>\n",
       "      <td>1.02</td>\n",
       "      <td>1.0</td>\n",
       "      <td>0.0</td>\n",
       "      <td>NaN</td>\n",
       "      <td>normal</td>\n",
       "      <td>notpresent</td>\n",
       "      <td>notpresent</td>\n",
       "      <td>...</td>\n",
       "      <td>44</td>\n",
       "      <td>7800</td>\n",
       "      <td>5.2</td>\n",
       "      <td>yes</td>\n",
       "      <td>yes</td>\n",
       "      <td>no</td>\n",
       "      <td>good</td>\n",
       "      <td>no</td>\n",
       "      <td>no</td>\n",
       "      <td>ckd</td>\n",
       "    </tr>\n",
       "    <tr>\n",
       "      <th>1</th>\n",
       "      <td>1</td>\n",
       "      <td>7.0</td>\n",
       "      <td>50.0</td>\n",
       "      <td>1.02</td>\n",
       "      <td>4.0</td>\n",
       "      <td>0.0</td>\n",
       "      <td>NaN</td>\n",
       "      <td>normal</td>\n",
       "      <td>notpresent</td>\n",
       "      <td>notpresent</td>\n",
       "      <td>...</td>\n",
       "      <td>38</td>\n",
       "      <td>6000</td>\n",
       "      <td>NaN</td>\n",
       "      <td>no</td>\n",
       "      <td>no</td>\n",
       "      <td>no</td>\n",
       "      <td>good</td>\n",
       "      <td>no</td>\n",
       "      <td>no</td>\n",
       "      <td>ckd</td>\n",
       "    </tr>\n",
       "    <tr>\n",
       "      <th>2</th>\n",
       "      <td>2</td>\n",
       "      <td>62.0</td>\n",
       "      <td>80.0</td>\n",
       "      <td>1.01</td>\n",
       "      <td>2.0</td>\n",
       "      <td>3.0</td>\n",
       "      <td>normal</td>\n",
       "      <td>normal</td>\n",
       "      <td>notpresent</td>\n",
       "      <td>notpresent</td>\n",
       "      <td>...</td>\n",
       "      <td>31</td>\n",
       "      <td>7500</td>\n",
       "      <td>NaN</td>\n",
       "      <td>no</td>\n",
       "      <td>yes</td>\n",
       "      <td>no</td>\n",
       "      <td>poor</td>\n",
       "      <td>no</td>\n",
       "      <td>yes</td>\n",
       "      <td>ckd</td>\n",
       "    </tr>\n",
       "  </tbody>\n",
       "</table>\n",
       "<p>3 rows × 26 columns</p>\n",
       "</div>"
      ],
      "text/plain": [
       "   id   age    bp    sg   al   su     rbc      pc         pcc          ba  \\\n",
       "0   0  48.0  80.0  1.02  1.0  0.0     NaN  normal  notpresent  notpresent   \n",
       "1   1   7.0  50.0  1.02  4.0  0.0     NaN  normal  notpresent  notpresent   \n",
       "2   2  62.0  80.0  1.01  2.0  3.0  normal  normal  notpresent  notpresent   \n",
       "\n",
       "   ...  pcv    wc   rc  htn   dm  cad appet  pe  ane classification  \n",
       "0  ...   44  7800  5.2  yes  yes   no  good  no   no            ckd  \n",
       "1  ...   38  6000  NaN   no   no   no  good  no   no            ckd  \n",
       "2  ...   31  7500  NaN   no  yes   no  poor  no  yes            ckd  \n",
       "\n",
       "[3 rows x 26 columns]"
      ]
     },
     "execution_count": 3,
     "metadata": {},
     "output_type": "execute_result"
    }
   ],
   "source": [
    "df.head(3)"
   ]
  },
  {
   "cell_type": "code",
   "execution_count": 4,
   "id": "98bd84d3",
   "metadata": {
    "scrolled": false
   },
   "outputs": [
    {
     "name": "stdout",
     "output_type": "stream",
     "text": [
      "<class 'pandas.core.frame.DataFrame'>\n",
      "RangeIndex: 400 entries, 0 to 399\n",
      "Data columns (total 26 columns):\n",
      " #   Column          Non-Null Count  Dtype  \n",
      "---  ------          --------------  -----  \n",
      " 0   id              400 non-null    int64  \n",
      " 1   age             391 non-null    float64\n",
      " 2   bp              388 non-null    float64\n",
      " 3   sg              353 non-null    float64\n",
      " 4   al              354 non-null    float64\n",
      " 5   su              351 non-null    float64\n",
      " 6   rbc             248 non-null    object \n",
      " 7   pc              335 non-null    object \n",
      " 8   pcc             396 non-null    object \n",
      " 9   ba              396 non-null    object \n",
      " 10  bgr             356 non-null    float64\n",
      " 11  bu              381 non-null    float64\n",
      " 12  sc              383 non-null    float64\n",
      " 13  sod             313 non-null    float64\n",
      " 14  pot             312 non-null    float64\n",
      " 15  hemo            348 non-null    float64\n",
      " 16  pcv             330 non-null    object \n",
      " 17  wc              295 non-null    object \n",
      " 18  rc              270 non-null    object \n",
      " 19  htn             398 non-null    object \n",
      " 20  dm              398 non-null    object \n",
      " 21  cad             398 non-null    object \n",
      " 22  appet           399 non-null    object \n",
      " 23  pe              399 non-null    object \n",
      " 24  ane             399 non-null    object \n",
      " 25  classification  400 non-null    object \n",
      "dtypes: float64(11), int64(1), object(14)\n",
      "memory usage: 81.4+ KB\n"
     ]
    }
   ],
   "source": [
    "df.info()"
   ]
  },
  {
   "cell_type": "markdown",
   "id": "5c6a381b",
   "metadata": {},
   "source": [
    "We have one feature with patient ID ['id' (int)], 23 features containing information about each patient (\"age\" through \"ane\"). The features contain the following information for each patient:\n",
    "<ul>\n",
    "    <li>'age' (float) - Age</li>\n",
    "    <li>'bp' (float) - Blood pressure</li>\n",
    "    <li>'rbc' (str) - Red blood cells</li>\n",
    "    <li>'pcc' (str) - pus cell clumps</li>\n",
    "    <li>'ba' (str) - bacteria</li>\n",
    "    <li>'bgr' (float) - blood glucose random</li>\n",
    "    <li>'bu' (float) - blood urea</li>\n",
    "    <li>'sc' (float) - serum creatinine</li>\n",
    "    <li>'sod' (float) - sodium</li>\n",
    "    <li>'pot' (float) - potassium</li>\n",
    "    <li>'hemo' (float) - hemoglobin</li>\n",
    "    <li>'pcv' (float **curr. string**) - packed cell volume</li>\n",
    "    <li>'wc' (float **curr. string**) - white blood cell count</li>\n",
    "    <li>'rc' (float **curr. string**) - red blood cell count</li>\n",
    "    <li>'htn' (str) - hypertension</li>\n",
    "    <li>'dm' (str) - diabetes mellitus</li>\n",
    "    <li>'cad' (str) - coronary artery disease</li>\n",
    "    <li>'appet' (str) - appetite</li>\n",
    "    <li>'pe' (str) - pedal edema</li>\n",
    "    <li>'ane' (str) - anemia</li>\n",
    "</ul>\n",
    "Lastly each patient either has or does not have chronic kidney disease ['classification' (str)]."
   ]
  },
  {
   "cell_type": "markdown",
   "id": "55d881b0",
   "metadata": {},
   "source": [
    "We note that features 'pcv', 'wc' and 'rc' have been read in as strings when they should be floats. We will find that this is erroneous, non-numerical, entries which confused the read in function."
   ]
  },
  {
   "cell_type": "markdown",
   "id": "098f5b09",
   "metadata": {},
   "source": [
    "# Data cleaning (errors and converting datatype)\n",
    "abstract"
   ]
  },
  {
   "cell_type": "markdown",
   "id": "6e529137",
   "metadata": {},
   "source": [
    "## Removing redundant features"
   ]
  },
  {
   "cell_type": "markdown",
   "id": "88261f68",
   "metadata": {},
   "source": [
    "The 'id' of a patient is redundent information that will be independent from all symptoms and from classification, we therefore, remove this feature."
   ]
  },
  {
   "cell_type": "code",
   "execution_count": 5,
   "id": "75b98209",
   "metadata": {},
   "outputs": [],
   "source": [
    "df.drop('id',axis=1,inplace=True)"
   ]
  },
  {
   "cell_type": "markdown",
   "id": "c89c19e9",
   "metadata": {},
   "source": [
    "## Categoric freatures"
   ]
  },
  {
   "cell_type": "markdown",
   "id": "7de927cc",
   "metadata": {},
   "source": [
    "Many of our features are categoric."
   ]
  },
  {
   "cell_type": "code",
   "execution_count": 6,
   "id": "ef3407ed",
   "metadata": {},
   "outputs": [
    {
     "data": {
      "text/html": [
       "<div>\n",
       "<style scoped>\n",
       "    .dataframe tbody tr th:only-of-type {\n",
       "        vertical-align: middle;\n",
       "    }\n",
       "\n",
       "    .dataframe tbody tr th {\n",
       "        vertical-align: top;\n",
       "    }\n",
       "\n",
       "    .dataframe thead th {\n",
       "        text-align: right;\n",
       "    }\n",
       "</style>\n",
       "<table border=\"1\" class=\"dataframe\">\n",
       "  <thead>\n",
       "    <tr style=\"text-align: right;\">\n",
       "      <th></th>\n",
       "      <th>pc</th>\n",
       "      <th>rbc</th>\n",
       "      <th>pcc</th>\n",
       "      <th>ba</th>\n",
       "      <th>htn</th>\n",
       "      <th>dm</th>\n",
       "      <th>cad</th>\n",
       "      <th>appet</th>\n",
       "      <th>pe</th>\n",
       "      <th>ane</th>\n",
       "      <th>classification</th>\n",
       "    </tr>\n",
       "  </thead>\n",
       "  <tbody>\n",
       "    <tr>\n",
       "      <th>0</th>\n",
       "      <td>normal</td>\n",
       "      <td>NaN</td>\n",
       "      <td>notpresent</td>\n",
       "      <td>notpresent</td>\n",
       "      <td>yes</td>\n",
       "      <td>yes</td>\n",
       "      <td>no</td>\n",
       "      <td>good</td>\n",
       "      <td>no</td>\n",
       "      <td>no</td>\n",
       "      <td>ckd</td>\n",
       "    </tr>\n",
       "    <tr>\n",
       "      <th>1</th>\n",
       "      <td>normal</td>\n",
       "      <td>NaN</td>\n",
       "      <td>notpresent</td>\n",
       "      <td>notpresent</td>\n",
       "      <td>no</td>\n",
       "      <td>no</td>\n",
       "      <td>no</td>\n",
       "      <td>good</td>\n",
       "      <td>no</td>\n",
       "      <td>no</td>\n",
       "      <td>ckd</td>\n",
       "    </tr>\n",
       "    <tr>\n",
       "      <th>2</th>\n",
       "      <td>normal</td>\n",
       "      <td>normal</td>\n",
       "      <td>notpresent</td>\n",
       "      <td>notpresent</td>\n",
       "      <td>no</td>\n",
       "      <td>yes</td>\n",
       "      <td>no</td>\n",
       "      <td>poor</td>\n",
       "      <td>no</td>\n",
       "      <td>yes</td>\n",
       "      <td>ckd</td>\n",
       "    </tr>\n",
       "  </tbody>\n",
       "</table>\n",
       "</div>"
      ],
      "text/plain": [
       "       pc     rbc         pcc          ba  htn   dm cad appet  pe  ane  \\\n",
       "0  normal     NaN  notpresent  notpresent  yes  yes  no  good  no   no   \n",
       "1  normal     NaN  notpresent  notpresent   no   no  no  good  no   no   \n",
       "2  normal  normal  notpresent  notpresent   no  yes  no  poor  no  yes   \n",
       "\n",
       "  classification  \n",
       "0            ckd  \n",
       "1            ckd  \n",
       "2            ckd  "
      ]
     },
     "execution_count": 6,
     "metadata": {},
     "output_type": "execute_result"
    }
   ],
   "source": [
    "catg_feat = 'pc rbc pcc ba htn dm cad appet pe ane classification'.split()\n",
    "df[catg_feat].head(3)"
   ]
  },
  {
   "cell_type": "code",
   "execution_count": 7,
   "id": "d1f48b4d",
   "metadata": {},
   "outputs": [
    {
     "name": "stdout",
     "output_type": "stream",
     "text": [
      "pc                          [normal, abnormal, nan]\n",
      "rbc                         [nan, normal, abnormal]\n",
      "pcc                      [notpresent, present, nan]\n",
      "ba                       [notpresent, present, nan]\n",
      "htn                                  [yes, no, nan]\n",
      "dm                [yes, no,  yes, \\tno, \\tyes, nan]\n",
      "cad                            [no, yes, \\tno, nan]\n",
      "appet                             [good, poor, nan]\n",
      "pe                                   [no, yes, nan]\n",
      "ane                                  [no, yes, nan]\n",
      "classification                 [ckd, ckd\\t, notckd]\n",
      "dtype: object\n"
     ]
    }
   ],
   "source": [
    "print(df[catg_feat].apply(lambda col: col.unique()))"
   ]
  },
  {
   "cell_type": "markdown",
   "id": "d22c9f8c",
   "metadata": {},
   "source": [
    "### Removing erroneous entries"
   ]
  },
  {
   "cell_type": "markdown",
   "id": "9c7af9b2",
   "metadata": {},
   "source": [
    "We find that there are several erroneous entries in features 'dm', 'cad' and 'classification'. We remove any entries that incorrectly contain tabs (\"\\tno\" or \"\\tyes\") or spaces (\" yes\"). These mistakes only appear in three features, so we fix them manually."
   ]
  },
  {
   "cell_type": "code",
   "execution_count": 8,
   "id": "171c5938",
   "metadata": {},
   "outputs": [],
   "source": [
    "df.loc[df['dm']=='\\tno', 'dm'] = 'no'\n",
    "df.loc[df['dm']=='\\tyes', 'dm'] = 'yes'\n",
    "df.loc[df['dm']==' yes', 'dm'] = 'yes'\n",
    "df.loc[df['cad']=='\\tno', 'cad'] = 'no'\n",
    "df.loc[df['classification']=='ckd\\t', 'classification'] = 'ckd'"
   ]
  },
  {
   "cell_type": "code",
   "execution_count": 9,
   "id": "fc847b65",
   "metadata": {},
   "outputs": [
    {
     "name": "stdout",
     "output_type": "stream",
     "text": [
      "pc                   [normal, abnormal, nan]\n",
      "rbc                  [nan, normal, abnormal]\n",
      "pcc               [notpresent, present, nan]\n",
      "ba                [notpresent, present, nan]\n",
      "htn                           [yes, no, nan]\n",
      "dm                            [yes, no, nan]\n",
      "cad                           [no, yes, nan]\n",
      "appet                      [good, poor, nan]\n",
      "pe                            [no, yes, nan]\n",
      "ane                           [no, yes, nan]\n",
      "classification                 [ckd, notckd]\n",
      "dtype: object\n"
     ]
    }
   ],
   "source": [
    "print(df[catg_feat].apply(lambda col: col.unique()))"
   ]
  },
  {
   "cell_type": "markdown",
   "id": "ad3306aa",
   "metadata": {},
   "source": [
    "### Dummy variables"
   ]
  },
  {
   "cell_type": "markdown",
   "id": "56bab121",
   "metadata": {},
   "source": [
    "Many of our features has three entries: a positive result, a negative result and NaN. We convert our string data in to numerical values using pandas get_dummies function. Each feature is split in to sub-features. The left sub-feature (for example 'rbc_normal') contains binary entries for the positive or negative results. The second sub-feature (for example 'rbc_nan') is 1 if the cell entry is not a number (nan)."
   ]
  },
  {
   "cell_type": "code",
   "execution_count": 10,
   "id": "50eeded3",
   "metadata": {},
   "outputs": [],
   "source": [
    "df_catg = pd.get_dummies(df[catg_feat], dummy_na=True, drop_first=True)"
   ]
  },
  {
   "cell_type": "code",
   "execution_count": 11,
   "id": "887ac936",
   "metadata": {},
   "outputs": [
    {
     "data": {
      "text/html": [
       "<div>\n",
       "<style scoped>\n",
       "    .dataframe tbody tr th:only-of-type {\n",
       "        vertical-align: middle;\n",
       "    }\n",
       "\n",
       "    .dataframe tbody tr th {\n",
       "        vertical-align: top;\n",
       "    }\n",
       "\n",
       "    .dataframe thead th {\n",
       "        text-align: right;\n",
       "    }\n",
       "</style>\n",
       "<table border=\"1\" class=\"dataframe\">\n",
       "  <thead>\n",
       "    <tr style=\"text-align: right;\">\n",
       "      <th></th>\n",
       "      <th>pc_normal</th>\n",
       "      <th>pc_nan</th>\n",
       "      <th>rbc_normal</th>\n",
       "      <th>rbc_nan</th>\n",
       "      <th>pcc_present</th>\n",
       "      <th>pcc_nan</th>\n",
       "      <th>ba_present</th>\n",
       "      <th>ba_nan</th>\n",
       "      <th>htn_yes</th>\n",
       "      <th>htn_nan</th>\n",
       "      <th>...</th>\n",
       "      <th>cad_yes</th>\n",
       "      <th>cad_nan</th>\n",
       "      <th>appet_poor</th>\n",
       "      <th>appet_nan</th>\n",
       "      <th>pe_yes</th>\n",
       "      <th>pe_nan</th>\n",
       "      <th>ane_yes</th>\n",
       "      <th>ane_nan</th>\n",
       "      <th>classification_notckd</th>\n",
       "      <th>classification_nan</th>\n",
       "    </tr>\n",
       "  </thead>\n",
       "  <tbody>\n",
       "    <tr>\n",
       "      <th>0</th>\n",
       "      <td>1</td>\n",
       "      <td>0</td>\n",
       "      <td>0</td>\n",
       "      <td>1</td>\n",
       "      <td>0</td>\n",
       "      <td>0</td>\n",
       "      <td>0</td>\n",
       "      <td>0</td>\n",
       "      <td>1</td>\n",
       "      <td>0</td>\n",
       "      <td>...</td>\n",
       "      <td>0</td>\n",
       "      <td>0</td>\n",
       "      <td>0</td>\n",
       "      <td>0</td>\n",
       "      <td>0</td>\n",
       "      <td>0</td>\n",
       "      <td>0</td>\n",
       "      <td>0</td>\n",
       "      <td>0</td>\n",
       "      <td>0</td>\n",
       "    </tr>\n",
       "    <tr>\n",
       "      <th>1</th>\n",
       "      <td>1</td>\n",
       "      <td>0</td>\n",
       "      <td>0</td>\n",
       "      <td>1</td>\n",
       "      <td>0</td>\n",
       "      <td>0</td>\n",
       "      <td>0</td>\n",
       "      <td>0</td>\n",
       "      <td>0</td>\n",
       "      <td>0</td>\n",
       "      <td>...</td>\n",
       "      <td>0</td>\n",
       "      <td>0</td>\n",
       "      <td>0</td>\n",
       "      <td>0</td>\n",
       "      <td>0</td>\n",
       "      <td>0</td>\n",
       "      <td>0</td>\n",
       "      <td>0</td>\n",
       "      <td>0</td>\n",
       "      <td>0</td>\n",
       "    </tr>\n",
       "    <tr>\n",
       "      <th>2</th>\n",
       "      <td>1</td>\n",
       "      <td>0</td>\n",
       "      <td>1</td>\n",
       "      <td>0</td>\n",
       "      <td>0</td>\n",
       "      <td>0</td>\n",
       "      <td>0</td>\n",
       "      <td>0</td>\n",
       "      <td>0</td>\n",
       "      <td>0</td>\n",
       "      <td>...</td>\n",
       "      <td>0</td>\n",
       "      <td>0</td>\n",
       "      <td>1</td>\n",
       "      <td>0</td>\n",
       "      <td>0</td>\n",
       "      <td>0</td>\n",
       "      <td>1</td>\n",
       "      <td>0</td>\n",
       "      <td>0</td>\n",
       "      <td>0</td>\n",
       "    </tr>\n",
       "  </tbody>\n",
       "</table>\n",
       "<p>3 rows × 22 columns</p>\n",
       "</div>"
      ],
      "text/plain": [
       "   pc_normal  pc_nan  rbc_normal  rbc_nan  pcc_present  pcc_nan  ba_present  \\\n",
       "0          1       0           0        1            0        0           0   \n",
       "1          1       0           0        1            0        0           0   \n",
       "2          1       0           1        0            0        0           0   \n",
       "\n",
       "   ba_nan  htn_yes  htn_nan  ...  cad_yes  cad_nan  appet_poor  appet_nan  \\\n",
       "0       0        1        0  ...        0        0           0          0   \n",
       "1       0        0        0  ...        0        0           0          0   \n",
       "2       0        0        0  ...        0        0           1          0   \n",
       "\n",
       "   pe_yes  pe_nan  ane_yes  ane_nan  classification_notckd  classification_nan  \n",
       "0       0       0        0        0                      0                   0  \n",
       "1       0       0        0        0                      0                   0  \n",
       "2       0       0        1        0                      0                   0  \n",
       "\n",
       "[3 rows x 22 columns]"
      ]
     },
     "execution_count": 11,
     "metadata": {},
     "output_type": "execute_result"
    }
   ],
   "source": [
    "df_catg.head(3)"
   ]
  },
  {
   "cell_type": "markdown",
   "id": "2bea7903",
   "metadata": {},
   "source": [
    "We can combine the two sub-features. If the entry was nan we imput the value nan in to the first sub-feature. We then replace the data in the original dataframe (df)."
   ]
  },
  {
   "cell_type": "code",
   "execution_count": 12,
   "id": "4950c052",
   "metadata": {},
   "outputs": [],
   "source": [
    "def conv_to_nan(entry):\n",
    "    entry_val, entry_is_nan = entry[0], entry[1]\n",
    "    \n",
    "    if entry_is_nan: return np.nan\n",
    "    else: return entry_val\n",
    "\n",
    "for i in range(0,len(catg_feat)):\n",
    "    df[catg_feat[i]] = df_catg.iloc[:,[2*i,2*i+1]].apply(conv_to_nan,axis=1)\n",
    "    df.rename(columns={catg_feat[i]: df_catg.columns[2*i]}, inplace=True)"
   ]
  },
  {
   "cell_type": "code",
   "execution_count": 13,
   "id": "8830bc9d",
   "metadata": {},
   "outputs": [
    {
     "data": {
      "text/html": [
       "<div>\n",
       "<style scoped>\n",
       "    .dataframe tbody tr th:only-of-type {\n",
       "        vertical-align: middle;\n",
       "    }\n",
       "\n",
       "    .dataframe tbody tr th {\n",
       "        vertical-align: top;\n",
       "    }\n",
       "\n",
       "    .dataframe thead th {\n",
       "        text-align: right;\n",
       "    }\n",
       "</style>\n",
       "<table border=\"1\" class=\"dataframe\">\n",
       "  <thead>\n",
       "    <tr style=\"text-align: right;\">\n",
       "      <th></th>\n",
       "      <th>age</th>\n",
       "      <th>bp</th>\n",
       "      <th>sg</th>\n",
       "      <th>al</th>\n",
       "      <th>su</th>\n",
       "      <th>rbc_normal</th>\n",
       "      <th>pc_normal</th>\n",
       "      <th>pcc_present</th>\n",
       "      <th>ba_present</th>\n",
       "      <th>bgr</th>\n",
       "      <th>...</th>\n",
       "      <th>pcv</th>\n",
       "      <th>wc</th>\n",
       "      <th>rc</th>\n",
       "      <th>htn_yes</th>\n",
       "      <th>dm_yes</th>\n",
       "      <th>cad_yes</th>\n",
       "      <th>appet_poor</th>\n",
       "      <th>pe_yes</th>\n",
       "      <th>ane_yes</th>\n",
       "      <th>classification_notckd</th>\n",
       "    </tr>\n",
       "  </thead>\n",
       "  <tbody>\n",
       "    <tr>\n",
       "      <th>0</th>\n",
       "      <td>48.0</td>\n",
       "      <td>80.0</td>\n",
       "      <td>1.02</td>\n",
       "      <td>1.0</td>\n",
       "      <td>0.0</td>\n",
       "      <td>NaN</td>\n",
       "      <td>1.0</td>\n",
       "      <td>0.0</td>\n",
       "      <td>0.0</td>\n",
       "      <td>121.0</td>\n",
       "      <td>...</td>\n",
       "      <td>44</td>\n",
       "      <td>7800</td>\n",
       "      <td>5.2</td>\n",
       "      <td>1.0</td>\n",
       "      <td>1.0</td>\n",
       "      <td>0.0</td>\n",
       "      <td>0.0</td>\n",
       "      <td>0.0</td>\n",
       "      <td>0.0</td>\n",
       "      <td>0</td>\n",
       "    </tr>\n",
       "    <tr>\n",
       "      <th>1</th>\n",
       "      <td>7.0</td>\n",
       "      <td>50.0</td>\n",
       "      <td>1.02</td>\n",
       "      <td>4.0</td>\n",
       "      <td>0.0</td>\n",
       "      <td>NaN</td>\n",
       "      <td>1.0</td>\n",
       "      <td>0.0</td>\n",
       "      <td>0.0</td>\n",
       "      <td>NaN</td>\n",
       "      <td>...</td>\n",
       "      <td>38</td>\n",
       "      <td>6000</td>\n",
       "      <td>NaN</td>\n",
       "      <td>0.0</td>\n",
       "      <td>0.0</td>\n",
       "      <td>0.0</td>\n",
       "      <td>0.0</td>\n",
       "      <td>0.0</td>\n",
       "      <td>0.0</td>\n",
       "      <td>0</td>\n",
       "    </tr>\n",
       "    <tr>\n",
       "      <th>2</th>\n",
       "      <td>62.0</td>\n",
       "      <td>80.0</td>\n",
       "      <td>1.01</td>\n",
       "      <td>2.0</td>\n",
       "      <td>3.0</td>\n",
       "      <td>1.0</td>\n",
       "      <td>1.0</td>\n",
       "      <td>0.0</td>\n",
       "      <td>0.0</td>\n",
       "      <td>423.0</td>\n",
       "      <td>...</td>\n",
       "      <td>31</td>\n",
       "      <td>7500</td>\n",
       "      <td>NaN</td>\n",
       "      <td>0.0</td>\n",
       "      <td>1.0</td>\n",
       "      <td>0.0</td>\n",
       "      <td>1.0</td>\n",
       "      <td>0.0</td>\n",
       "      <td>1.0</td>\n",
       "      <td>0</td>\n",
       "    </tr>\n",
       "  </tbody>\n",
       "</table>\n",
       "<p>3 rows × 25 columns</p>\n",
       "</div>"
      ],
      "text/plain": [
       "    age    bp    sg   al   su  rbc_normal  pc_normal  pcc_present  ba_present  \\\n",
       "0  48.0  80.0  1.02  1.0  0.0         NaN        1.0          0.0         0.0   \n",
       "1   7.0  50.0  1.02  4.0  0.0         NaN        1.0          0.0         0.0   \n",
       "2  62.0  80.0  1.01  2.0  3.0         1.0        1.0          0.0         0.0   \n",
       "\n",
       "     bgr  ...  pcv    wc   rc  htn_yes  dm_yes cad_yes appet_poor pe_yes  \\\n",
       "0  121.0  ...   44  7800  5.2      1.0     1.0     0.0        0.0    0.0   \n",
       "1    NaN  ...   38  6000  NaN      0.0     0.0     0.0        0.0    0.0   \n",
       "2  423.0  ...   31  7500  NaN      0.0     1.0     0.0        1.0    0.0   \n",
       "\n",
       "   ane_yes  classification_notckd  \n",
       "0      0.0                      0  \n",
       "1      0.0                      0  \n",
       "2      1.0                      0  \n",
       "\n",
       "[3 rows x 25 columns]"
      ]
     },
     "execution_count": 13,
     "metadata": {},
     "output_type": "execute_result"
    }
   ],
   "source": [
    "df.head(3)"
   ]
  },
  {
   "cell_type": "markdown",
   "id": "74a88c36",
   "metadata": {},
   "source": [
    "All categoric features are now encoded by numerical values. However, our final feature is \"classififcation_notckd\". It would make more sense to have the feature be \"classififcation_ckd\". We simply invert \"classififcation_notckd\" and replace the feature."
   ]
  },
  {
   "cell_type": "code",
   "execution_count": 14,
   "id": "7b29732f",
   "metadata": {},
   "outputs": [],
   "source": [
    "df[\"classification_ckd\"] = df[\"classification_notckd\"].apply(lambda x: 1 - x)\n",
    "df.drop(labels=\"classification_notckd\",axis=1,inplace=True)"
   ]
  },
  {
   "cell_type": "code",
   "execution_count": 15,
   "id": "5bc349f3",
   "metadata": {},
   "outputs": [
    {
     "data": {
      "text/html": [
       "<div>\n",
       "<style scoped>\n",
       "    .dataframe tbody tr th:only-of-type {\n",
       "        vertical-align: middle;\n",
       "    }\n",
       "\n",
       "    .dataframe tbody tr th {\n",
       "        vertical-align: top;\n",
       "    }\n",
       "\n",
       "    .dataframe thead th {\n",
       "        text-align: right;\n",
       "    }\n",
       "</style>\n",
       "<table border=\"1\" class=\"dataframe\">\n",
       "  <thead>\n",
       "    <tr style=\"text-align: right;\">\n",
       "      <th></th>\n",
       "      <th>age</th>\n",
       "      <th>bp</th>\n",
       "      <th>sg</th>\n",
       "      <th>al</th>\n",
       "      <th>su</th>\n",
       "      <th>rbc_normal</th>\n",
       "      <th>pc_normal</th>\n",
       "      <th>pcc_present</th>\n",
       "      <th>ba_present</th>\n",
       "      <th>bgr</th>\n",
       "      <th>...</th>\n",
       "      <th>pcv</th>\n",
       "      <th>wc</th>\n",
       "      <th>rc</th>\n",
       "      <th>htn_yes</th>\n",
       "      <th>dm_yes</th>\n",
       "      <th>cad_yes</th>\n",
       "      <th>appet_poor</th>\n",
       "      <th>pe_yes</th>\n",
       "      <th>ane_yes</th>\n",
       "      <th>classification_ckd</th>\n",
       "    </tr>\n",
       "  </thead>\n",
       "  <tbody>\n",
       "    <tr>\n",
       "      <th>0</th>\n",
       "      <td>48.0</td>\n",
       "      <td>80.0</td>\n",
       "      <td>1.02</td>\n",
       "      <td>1.0</td>\n",
       "      <td>0.0</td>\n",
       "      <td>NaN</td>\n",
       "      <td>1.0</td>\n",
       "      <td>0.0</td>\n",
       "      <td>0.0</td>\n",
       "      <td>121.0</td>\n",
       "      <td>...</td>\n",
       "      <td>44</td>\n",
       "      <td>7800</td>\n",
       "      <td>5.2</td>\n",
       "      <td>1.0</td>\n",
       "      <td>1.0</td>\n",
       "      <td>0.0</td>\n",
       "      <td>0.0</td>\n",
       "      <td>0.0</td>\n",
       "      <td>0.0</td>\n",
       "      <td>1</td>\n",
       "    </tr>\n",
       "    <tr>\n",
       "      <th>1</th>\n",
       "      <td>7.0</td>\n",
       "      <td>50.0</td>\n",
       "      <td>1.02</td>\n",
       "      <td>4.0</td>\n",
       "      <td>0.0</td>\n",
       "      <td>NaN</td>\n",
       "      <td>1.0</td>\n",
       "      <td>0.0</td>\n",
       "      <td>0.0</td>\n",
       "      <td>NaN</td>\n",
       "      <td>...</td>\n",
       "      <td>38</td>\n",
       "      <td>6000</td>\n",
       "      <td>NaN</td>\n",
       "      <td>0.0</td>\n",
       "      <td>0.0</td>\n",
       "      <td>0.0</td>\n",
       "      <td>0.0</td>\n",
       "      <td>0.0</td>\n",
       "      <td>0.0</td>\n",
       "      <td>1</td>\n",
       "    </tr>\n",
       "    <tr>\n",
       "      <th>2</th>\n",
       "      <td>62.0</td>\n",
       "      <td>80.0</td>\n",
       "      <td>1.01</td>\n",
       "      <td>2.0</td>\n",
       "      <td>3.0</td>\n",
       "      <td>1.0</td>\n",
       "      <td>1.0</td>\n",
       "      <td>0.0</td>\n",
       "      <td>0.0</td>\n",
       "      <td>423.0</td>\n",
       "      <td>...</td>\n",
       "      <td>31</td>\n",
       "      <td>7500</td>\n",
       "      <td>NaN</td>\n",
       "      <td>0.0</td>\n",
       "      <td>1.0</td>\n",
       "      <td>0.0</td>\n",
       "      <td>1.0</td>\n",
       "      <td>0.0</td>\n",
       "      <td>1.0</td>\n",
       "      <td>1</td>\n",
       "    </tr>\n",
       "  </tbody>\n",
       "</table>\n",
       "<p>3 rows × 25 columns</p>\n",
       "</div>"
      ],
      "text/plain": [
       "    age    bp    sg   al   su  rbc_normal  pc_normal  pcc_present  ba_present  \\\n",
       "0  48.0  80.0  1.02  1.0  0.0         NaN        1.0          0.0         0.0   \n",
       "1   7.0  50.0  1.02  4.0  0.0         NaN        1.0          0.0         0.0   \n",
       "2  62.0  80.0  1.01  2.0  3.0         1.0        1.0          0.0         0.0   \n",
       "\n",
       "     bgr  ...  pcv    wc   rc  htn_yes  dm_yes cad_yes appet_poor pe_yes  \\\n",
       "0  121.0  ...   44  7800  5.2      1.0     1.0     0.0        0.0    0.0   \n",
       "1    NaN  ...   38  6000  NaN      0.0     0.0     0.0        0.0    0.0   \n",
       "2  423.0  ...   31  7500  NaN      0.0     1.0     0.0        1.0    0.0   \n",
       "\n",
       "   ane_yes  classification_ckd  \n",
       "0      0.0                   1  \n",
       "1      0.0                   1  \n",
       "2      1.0                   1  \n",
       "\n",
       "[3 rows x 25 columns]"
      ]
     },
     "execution_count": 15,
     "metadata": {},
     "output_type": "execute_result"
    }
   ],
   "source": [
    "df.head(3)"
   ]
  },
  {
   "cell_type": "markdown",
   "id": "a3d50538",
   "metadata": {},
   "source": [
    "## Numeric features"
   ]
  },
  {
   "cell_type": "markdown",
   "id": "57268d3b",
   "metadata": {},
   "source": [
    "As we saw earlier, several features which should have been loaded as floats were loaded as strings."
   ]
  },
  {
   "cell_type": "code",
   "execution_count": 16,
   "id": "b6f2bc27",
   "metadata": {},
   "outputs": [
    {
     "data": {
      "text/html": [
       "<div>\n",
       "<style scoped>\n",
       "    .dataframe tbody tr th:only-of-type {\n",
       "        vertical-align: middle;\n",
       "    }\n",
       "\n",
       "    .dataframe tbody tr th {\n",
       "        vertical-align: top;\n",
       "    }\n",
       "\n",
       "    .dataframe thead th {\n",
       "        text-align: right;\n",
       "    }\n",
       "</style>\n",
       "<table border=\"1\" class=\"dataframe\">\n",
       "  <thead>\n",
       "    <tr style=\"text-align: right;\">\n",
       "      <th></th>\n",
       "      <th>pcv</th>\n",
       "      <th>wc</th>\n",
       "      <th>rc</th>\n",
       "    </tr>\n",
       "  </thead>\n",
       "  <tbody>\n",
       "    <tr>\n",
       "      <th>0</th>\n",
       "      <td>44</td>\n",
       "      <td>7800</td>\n",
       "      <td>5.2</td>\n",
       "    </tr>\n",
       "    <tr>\n",
       "      <th>1</th>\n",
       "      <td>38</td>\n",
       "      <td>6000</td>\n",
       "      <td>NaN</td>\n",
       "    </tr>\n",
       "    <tr>\n",
       "      <th>2</th>\n",
       "      <td>31</td>\n",
       "      <td>7500</td>\n",
       "      <td>NaN</td>\n",
       "    </tr>\n",
       "    <tr>\n",
       "      <th>3</th>\n",
       "      <td>32</td>\n",
       "      <td>6700</td>\n",
       "      <td>3.9</td>\n",
       "    </tr>\n",
       "    <tr>\n",
       "      <th>4</th>\n",
       "      <td>35</td>\n",
       "      <td>7300</td>\n",
       "      <td>4.6</td>\n",
       "    </tr>\n",
       "    <tr>\n",
       "      <th>...</th>\n",
       "      <td>...</td>\n",
       "      <td>...</td>\n",
       "      <td>...</td>\n",
       "    </tr>\n",
       "    <tr>\n",
       "      <th>65</th>\n",
       "      <td>48</td>\n",
       "      <td>NaN</td>\n",
       "      <td>NaN</td>\n",
       "    </tr>\n",
       "    <tr>\n",
       "      <th>66</th>\n",
       "      <td>\\t?</td>\n",
       "      <td>NaN</td>\n",
       "      <td>NaN</td>\n",
       "    </tr>\n",
       "    <tr>\n",
       "      <th>67</th>\n",
       "      <td>NaN</td>\n",
       "      <td>NaN</td>\n",
       "      <td>NaN</td>\n",
       "    </tr>\n",
       "    <tr>\n",
       "      <th>68</th>\n",
       "      <td>37</td>\n",
       "      <td>NaN</td>\n",
       "      <td>NaN</td>\n",
       "    </tr>\n",
       "    <tr>\n",
       "      <th>69</th>\n",
       "      <td>52</td>\n",
       "      <td>6900</td>\n",
       "      <td>6.0</td>\n",
       "    </tr>\n",
       "  </tbody>\n",
       "</table>\n",
       "<p>70 rows × 3 columns</p>\n",
       "</div>"
      ],
      "text/plain": [
       "    pcv    wc   rc\n",
       "0    44  7800  5.2\n",
       "1    38  6000  NaN\n",
       "2    31  7500  NaN\n",
       "3    32  6700  3.9\n",
       "4    35  7300  4.6\n",
       "..  ...   ...  ...\n",
       "65   48   NaN  NaN\n",
       "66  \\t?   NaN  NaN\n",
       "67  NaN   NaN  NaN\n",
       "68   37   NaN  NaN\n",
       "69   52  6900  6.0\n",
       "\n",
       "[70 rows x 3 columns]"
      ]
     },
     "execution_count": 16,
     "metadata": {},
     "output_type": "execute_result"
    }
   ],
   "source": [
    "incorr_float_feat = [\"pcv\",\"wc\",\"rc\"]\n",
    "df[incorr_float_feat].head(70)"
   ]
  },
  {
   "cell_type": "markdown",
   "id": "82750cff",
   "metadata": {},
   "source": [
    "Write function to convert numerical strings to floats and to detect non-numerical strings and convert to nan."
   ]
  },
  {
   "cell_type": "code",
   "execution_count": 17,
   "id": "3a824652",
   "metadata": {},
   "outputs": [],
   "source": [
    "def conv_check_float(str):\n",
    "    ###We are trying to detect non-numerical strings - including backslash's (eg.\"\\t?\")\n",
    "    ###Therefore we convert to rawstring which reads backshlash as literal character\n",
    "    raw_str = r'{}'.format(str)\n",
    "    try:\n",
    "        float(raw_str)\n",
    "        return str\n",
    "    except ValueError:\n",
    "        return np.nan\n",
    "\n",
    "for feat in incorr_float_feat:\n",
    "    df[feat]=df[feat].apply(conv_check_float)"
   ]
  },
  {
   "cell_type": "code",
   "execution_count": 18,
   "id": "f60c2822",
   "metadata": {},
   "outputs": [
    {
     "data": {
      "text/html": [
       "<div>\n",
       "<style scoped>\n",
       "    .dataframe tbody tr th:only-of-type {\n",
       "        vertical-align: middle;\n",
       "    }\n",
       "\n",
       "    .dataframe tbody tr th {\n",
       "        vertical-align: top;\n",
       "    }\n",
       "\n",
       "    .dataframe thead th {\n",
       "        text-align: right;\n",
       "    }\n",
       "</style>\n",
       "<table border=\"1\" class=\"dataframe\">\n",
       "  <thead>\n",
       "    <tr style=\"text-align: right;\">\n",
       "      <th></th>\n",
       "      <th>pcv</th>\n",
       "      <th>wc</th>\n",
       "      <th>rc</th>\n",
       "    </tr>\n",
       "  </thead>\n",
       "  <tbody>\n",
       "    <tr>\n",
       "      <th>0</th>\n",
       "      <td>44</td>\n",
       "      <td>7800</td>\n",
       "      <td>5.2</td>\n",
       "    </tr>\n",
       "    <tr>\n",
       "      <th>1</th>\n",
       "      <td>38</td>\n",
       "      <td>6000</td>\n",
       "      <td>NaN</td>\n",
       "    </tr>\n",
       "    <tr>\n",
       "      <th>2</th>\n",
       "      <td>31</td>\n",
       "      <td>7500</td>\n",
       "      <td>NaN</td>\n",
       "    </tr>\n",
       "    <tr>\n",
       "      <th>3</th>\n",
       "      <td>32</td>\n",
       "      <td>6700</td>\n",
       "      <td>3.9</td>\n",
       "    </tr>\n",
       "    <tr>\n",
       "      <th>4</th>\n",
       "      <td>35</td>\n",
       "      <td>7300</td>\n",
       "      <td>4.6</td>\n",
       "    </tr>\n",
       "    <tr>\n",
       "      <th>...</th>\n",
       "      <td>...</td>\n",
       "      <td>...</td>\n",
       "      <td>...</td>\n",
       "    </tr>\n",
       "    <tr>\n",
       "      <th>65</th>\n",
       "      <td>48</td>\n",
       "      <td>NaN</td>\n",
       "      <td>NaN</td>\n",
       "    </tr>\n",
       "    <tr>\n",
       "      <th>66</th>\n",
       "      <td>NaN</td>\n",
       "      <td>NaN</td>\n",
       "      <td>NaN</td>\n",
       "    </tr>\n",
       "    <tr>\n",
       "      <th>67</th>\n",
       "      <td>NaN</td>\n",
       "      <td>NaN</td>\n",
       "      <td>NaN</td>\n",
       "    </tr>\n",
       "    <tr>\n",
       "      <th>68</th>\n",
       "      <td>37</td>\n",
       "      <td>NaN</td>\n",
       "      <td>NaN</td>\n",
       "    </tr>\n",
       "    <tr>\n",
       "      <th>69</th>\n",
       "      <td>52</td>\n",
       "      <td>6900</td>\n",
       "      <td>6.0</td>\n",
       "    </tr>\n",
       "  </tbody>\n",
       "</table>\n",
       "<p>70 rows × 3 columns</p>\n",
       "</div>"
      ],
      "text/plain": [
       "    pcv    wc   rc\n",
       "0    44  7800  5.2\n",
       "1    38  6000  NaN\n",
       "2    31  7500  NaN\n",
       "3    32  6700  3.9\n",
       "4    35  7300  4.6\n",
       "..  ...   ...  ...\n",
       "65   48   NaN  NaN\n",
       "66  NaN   NaN  NaN\n",
       "67  NaN   NaN  NaN\n",
       "68   37   NaN  NaN\n",
       "69   52  6900  6.0\n",
       "\n",
       "[70 rows x 3 columns]"
      ]
     },
     "execution_count": 18,
     "metadata": {},
     "output_type": "execute_result"
    }
   ],
   "source": [
    "df[incorr_float_feat].head(70)"
   ]
  },
  {
   "cell_type": "markdown",
   "id": "9009fe16",
   "metadata": {},
   "source": [
    "Now we can simply use pandas built in string to float function to convert the values without error."
   ]
  },
  {
   "cell_type": "code",
   "execution_count": 19,
   "id": "cd949476",
   "metadata": {},
   "outputs": [],
   "source": [
    "df[incorr_float_feat] = df[incorr_float_feat].astype(float)"
   ]
  },
  {
   "cell_type": "code",
   "execution_count": 20,
   "id": "7f77d6bf",
   "metadata": {},
   "outputs": [
    {
     "data": {
      "text/html": [
       "<div>\n",
       "<style scoped>\n",
       "    .dataframe tbody tr th:only-of-type {\n",
       "        vertical-align: middle;\n",
       "    }\n",
       "\n",
       "    .dataframe tbody tr th {\n",
       "        vertical-align: top;\n",
       "    }\n",
       "\n",
       "    .dataframe thead th {\n",
       "        text-align: right;\n",
       "    }\n",
       "</style>\n",
       "<table border=\"1\" class=\"dataframe\">\n",
       "  <thead>\n",
       "    <tr style=\"text-align: right;\">\n",
       "      <th></th>\n",
       "      <th>pcv</th>\n",
       "      <th>wc</th>\n",
       "      <th>rc</th>\n",
       "    </tr>\n",
       "  </thead>\n",
       "  <tbody>\n",
       "    <tr>\n",
       "      <th>0</th>\n",
       "      <td>44.0</td>\n",
       "      <td>7800.0</td>\n",
       "      <td>5.2</td>\n",
       "    </tr>\n",
       "    <tr>\n",
       "      <th>1</th>\n",
       "      <td>38.0</td>\n",
       "      <td>6000.0</td>\n",
       "      <td>NaN</td>\n",
       "    </tr>\n",
       "    <tr>\n",
       "      <th>2</th>\n",
       "      <td>31.0</td>\n",
       "      <td>7500.0</td>\n",
       "      <td>NaN</td>\n",
       "    </tr>\n",
       "    <tr>\n",
       "      <th>3</th>\n",
       "      <td>32.0</td>\n",
       "      <td>6700.0</td>\n",
       "      <td>3.9</td>\n",
       "    </tr>\n",
       "    <tr>\n",
       "      <th>4</th>\n",
       "      <td>35.0</td>\n",
       "      <td>7300.0</td>\n",
       "      <td>4.6</td>\n",
       "    </tr>\n",
       "    <tr>\n",
       "      <th>...</th>\n",
       "      <td>...</td>\n",
       "      <td>...</td>\n",
       "      <td>...</td>\n",
       "    </tr>\n",
       "    <tr>\n",
       "      <th>65</th>\n",
       "      <td>48.0</td>\n",
       "      <td>NaN</td>\n",
       "      <td>NaN</td>\n",
       "    </tr>\n",
       "    <tr>\n",
       "      <th>66</th>\n",
       "      <td>NaN</td>\n",
       "      <td>NaN</td>\n",
       "      <td>NaN</td>\n",
       "    </tr>\n",
       "    <tr>\n",
       "      <th>67</th>\n",
       "      <td>NaN</td>\n",
       "      <td>NaN</td>\n",
       "      <td>NaN</td>\n",
       "    </tr>\n",
       "    <tr>\n",
       "      <th>68</th>\n",
       "      <td>37.0</td>\n",
       "      <td>NaN</td>\n",
       "      <td>NaN</td>\n",
       "    </tr>\n",
       "    <tr>\n",
       "      <th>69</th>\n",
       "      <td>52.0</td>\n",
       "      <td>6900.0</td>\n",
       "      <td>6.0</td>\n",
       "    </tr>\n",
       "  </tbody>\n",
       "</table>\n",
       "<p>70 rows × 3 columns</p>\n",
       "</div>"
      ],
      "text/plain": [
       "     pcv      wc   rc\n",
       "0   44.0  7800.0  5.2\n",
       "1   38.0  6000.0  NaN\n",
       "2   31.0  7500.0  NaN\n",
       "3   32.0  6700.0  3.9\n",
       "4   35.0  7300.0  4.6\n",
       "..   ...     ...  ...\n",
       "65  48.0     NaN  NaN\n",
       "66   NaN     NaN  NaN\n",
       "67   NaN     NaN  NaN\n",
       "68  37.0     NaN  NaN\n",
       "69  52.0  6900.0  6.0\n",
       "\n",
       "[70 rows x 3 columns]"
      ]
     },
     "execution_count": 20,
     "metadata": {},
     "output_type": "execute_result"
    }
   ],
   "source": [
    "df[incorr_float_feat].head(70)"
   ]
  },
  {
   "cell_type": "markdown",
   "id": "f2b10d0a",
   "metadata": {},
   "source": [
    "Now check dataset info and see that the columns 'pcv', 'wc' and 'rc' are correctly recognised as floats."
   ]
  },
  {
   "cell_type": "code",
   "execution_count": 21,
   "id": "45d01181",
   "metadata": {},
   "outputs": [
    {
     "name": "stdout",
     "output_type": "stream",
     "text": [
      "<class 'pandas.core.frame.DataFrame'>\n",
      "RangeIndex: 400 entries, 0 to 399\n",
      "Data columns (total 25 columns):\n",
      " #   Column              Non-Null Count  Dtype  \n",
      "---  ------              --------------  -----  \n",
      " 0   age                 391 non-null    float64\n",
      " 1   bp                  388 non-null    float64\n",
      " 2   sg                  353 non-null    float64\n",
      " 3   al                  354 non-null    float64\n",
      " 4   su                  351 non-null    float64\n",
      " 5   rbc_normal          248 non-null    float64\n",
      " 6   pc_normal           335 non-null    float64\n",
      " 7   pcc_present         396 non-null    float64\n",
      " 8   ba_present          396 non-null    float64\n",
      " 9   bgr                 356 non-null    float64\n",
      " 10  bu                  381 non-null    float64\n",
      " 11  sc                  383 non-null    float64\n",
      " 12  sod                 313 non-null    float64\n",
      " 13  pot                 312 non-null    float64\n",
      " 14  hemo                348 non-null    float64\n",
      " 15  pcv                 329 non-null    float64\n",
      " 16  wc                  294 non-null    float64\n",
      " 17  rc                  269 non-null    float64\n",
      " 18  htn_yes             398 non-null    float64\n",
      " 19  dm_yes              398 non-null    float64\n",
      " 20  cad_yes             398 non-null    float64\n",
      " 21  appet_poor          399 non-null    float64\n",
      " 22  pe_yes              399 non-null    float64\n",
      " 23  ane_yes             399 non-null    float64\n",
      " 24  classification_ckd  400 non-null    int64  \n",
      "dtypes: float64(24), int64(1)\n",
      "memory usage: 78.2 KB\n"
     ]
    }
   ],
   "source": [
    "df.info()"
   ]
  },
  {
   "cell_type": "markdown",
   "id": "d4995db9",
   "metadata": {},
   "source": [
    "# Data visualisation"
   ]
  },
  {
   "cell_type": "markdown",
   "id": "f6afdf68",
   "metadata": {},
   "source": [
    "Majority of patients have CKD."
   ]
  },
  {
   "cell_type": "code",
   "execution_count": 22,
   "id": "0ea70066",
   "metadata": {},
   "outputs": [
    {
     "data": {
      "text/plain": [
       "<AxesSubplot:xlabel='classification_ckd', ylabel='count'>"
      ]
     },
     "execution_count": 22,
     "metadata": {},
     "output_type": "execute_result"
    },
    {
     "data": {
      "image/png": "[encoded data removed]",
      "text/plain": [
       "<Figure size 432x288 with 1 Axes>"
      ]
     },
     "metadata": {
      "needs_background": "light"
     },
     "output_type": "display_data"
    }
   ],
   "source": [
    "sns.countplot(x=\"classification_ckd\",data=df)"
   ]
  },
  {
   "cell_type": "markdown",
   "id": "694a53ff",
   "metadata": {},
   "source": [
    "There are many features that can help predict CKD. Here are some examples of good correlations between CKD and features. Some features of interest are \"sc\" and \"bgr\" where negative CKD have low varience low mean values whilst positive CKD have high mean high variance values."
   ]
  },
  {
   "cell_type": "code",
   "execution_count": 23,
   "id": "d714742c",
   "metadata": {},
   "outputs": [
    {
     "data": {
      "text/plain": [
       "<AxesSubplot:xlabel='sc', ylabel='Count'>"
      ]
     },
     "execution_count": 23,
     "metadata": {},
     "output_type": "execute_result"
    },
    {
     "data": {
      "image/png": "[encoded data removed]",
      "text/plain": [
       "<Figure size 432x288 with 1 Axes>"
      ]
     },
     "metadata": {
      "needs_background": "light"
     },
     "output_type": "display_data"
    }
   ],
   "source": [
    "sns.histplot(x=\"sc\",data=df,hue=\"classification_ckd\")"
   ]
  },
  {
   "cell_type": "code",
   "execution_count": 24,
   "id": "d440ef2f",
   "metadata": {},
   "outputs": [
    {
     "data": {
      "text/plain": [
       "<AxesSubplot:xlabel='bgr', ylabel='Count'>"
      ]
     },
     "execution_count": 24,
     "metadata": {},
     "output_type": "execute_result"
    },
    {
     "data": {
      "image/png": "[encoded data removed]",
      "text/plain": [
       "<Figure size 432x288 with 1 Axes>"
      ]
     },
     "metadata": {
      "needs_background": "light"
     },
     "output_type": "display_data"
    }
   ],
   "source": [
    "sns.histplot(x=\"bgr\",data=df,hue=\"classification_ckd\")"
   ]
  },
  {
   "cell_type": "markdown",
   "id": "44fe1205",
   "metadata": {},
   "source": [
    "Every patient who had normal rbc had negative CKD."
   ]
  },
  {
   "cell_type": "code",
   "execution_count": 25,
   "id": "167d61fa",
   "metadata": {},
   "outputs": [
    {
     "data": {
      "text/plain": [
       "<AxesSubplot:xlabel='rbc_normal', ylabel='count'>"
      ]
     },
     "execution_count": 25,
     "metadata": {},
     "output_type": "execute_result"
    },
    {
     "data": {
      "image/png": "[encoded data removed]",
      "text/plain": [
       "<Figure size 432x288 with 1 Axes>"
      ]
     },
     "metadata": {
      "needs_background": "light"
     },
     "output_type": "display_data"
    }
   ],
   "source": [
    "sns.countplot(data=df,x=\"rbc_normal\",hue=\"classification_ckd\")"
   ]
  },
  {
   "cell_type": "markdown",
   "id": "1e2e7db0",
   "metadata": {},
   "source": [
    "# Data cleaning (missing values)"
   ]
  },
  {
   "cell_type": "markdown",
   "id": "d3617bc2",
   "metadata": {},
   "source": [
    "Lets see how much missing data we have."
   ]
  },
  {
   "cell_type": "code",
   "execution_count": 26,
   "id": "2ad0ed3c",
   "metadata": {},
   "outputs": [
    {
     "data": {
      "text/plain": [
       "<AxesSubplot:>"
      ]
     },
     "execution_count": 26,
     "metadata": {},
     "output_type": "execute_result"
    },
    {
     "data": {
      "image/png": "[encoded data removed]",
      "text/plain": [
       "<Figure size 432x288 with 2 Axes>"
      ]
     },
     "metadata": {
      "needs_background": "light"
     },
     "output_type": "display_data"
    }
   ],
   "source": [
    "sns.heatmap(df.isna())"
   ]
  },
  {
   "cell_type": "markdown",
   "id": "58989b0b",
   "metadata": {},
   "source": [
    "For each column, what percentage of entries are nan."
   ]
  },
  {
   "cell_type": "code",
   "execution_count": 27,
   "id": "d9baf021",
   "metadata": {},
   "outputs": [
    {
     "name": "stdout",
     "output_type": "stream",
     "text": [
      "age                   0.0225\n",
      "bp                    0.0300\n",
      "sg                    0.1175\n",
      "al                    0.1150\n",
      "su                    0.1225\n",
      "rbc_normal            0.3800\n",
      "pc_normal             0.1625\n",
      "pcc_present           0.0100\n",
      "ba_present            0.0100\n",
      "bgr                   0.1100\n",
      "bu                    0.0475\n",
      "sc                    0.0425\n",
      "sod                   0.2175\n",
      "pot                   0.2200\n",
      "hemo                  0.1300\n",
      "pcv                   0.1775\n",
      "wc                    0.2650\n",
      "rc                    0.3275\n",
      "htn_yes               0.0050\n",
      "dm_yes                0.0050\n",
      "cad_yes               0.0050\n",
      "appet_poor            0.0025\n",
      "pe_yes                0.0025\n",
      "ane_yes               0.0025\n",
      "classification_ckd    0.0000\n",
      "dtype: float64\n"
     ]
    }
   ],
   "source": [
    "print(df.apply(lambda feat: np.mean(feat.isna())))"
   ]
  },
  {
   "cell_type": "markdown",
   "id": "06fe7f94",
   "metadata": {},
   "source": [
    "## Reduce dataset due to sparse missing entries"
   ]
  },
  {
   "cell_type": "markdown",
   "id": "fd6551f7",
   "metadata": {},
   "source": [
    "There are many features here that only have a small amount of missing values (<5%). Removing patients with nan values in these columns should not vastly reduce the total number of patients."
   ]
  },
  {
   "cell_type": "code",
   "execution_count": 28,
   "id": "8f3d5fae",
   "metadata": {},
   "outputs": [],
   "source": [
    "df_feat_with_na_small = df.columns[df.apply(lambda feat: np.mean(feat.isna()))<0.05]\n",
    "df.dropna(subset=df_feat_with_na_small,axis=0,inplace=True)"
   ]
  },
  {
   "cell_type": "markdown",
   "id": "6073c6ac",
   "metadata": {},
   "source": [
    "We have now reduced our dataset from 400 to 355 entries."
   ]
  },
  {
   "cell_type": "code",
   "execution_count": 29,
   "id": "ff7f2042",
   "metadata": {},
   "outputs": [
    {
     "data": {
      "text/plain": [
       "355"
      ]
     },
     "execution_count": 29,
     "metadata": {},
     "output_type": "execute_result"
    }
   ],
   "source": [
    "len(df.index)"
   ]
  },
  {
   "cell_type": "code",
   "execution_count": 30,
   "id": "ccde8dcc",
   "metadata": {},
   "outputs": [
    {
     "data": {
      "text/plain": [
       "<AxesSubplot:>"
      ]
     },
     "execution_count": 30,
     "metadata": {},
     "output_type": "execute_result"
    },
    {
     "data": {
      "image/png": "[encoded data removed]",
      "text/plain": [
       "<Figure size 432x288 with 2 Axes>"
      ]
     },
     "metadata": {
      "needs_background": "light"
     },
     "output_type": "display_data"
    }
   ],
   "source": [
    "sns.heatmap(df.isna())"
   ]
  },
  {
   "cell_type": "markdown",
   "id": "fd3fdf19",
   "metadata": {},
   "source": [
    "Many of the features with missing data have continuous entires. With these we will either fill in the mean value of the feature, or remove the feature. However, for cagegorical features with a lot of missing data (\"rbc\") and (\"pc\") averaging with give values inbetween the cagogorical data, therefore, we remove these.  "
   ]
  },
  {
   "cell_type": "code",
   "execution_count": 31,
   "id": "bc9c3f87",
   "metadata": {},
   "outputs": [],
   "source": [
    "df.drop(['rbc_normal','pc_normal'],axis=1,inplace=True)"
   ]
  },
  {
   "cell_type": "markdown",
   "id": "65be71bc",
   "metadata": {},
   "source": [
    "## Create datasets with different cleaning methods"
   ]
  },
  {
   "cell_type": "markdown",
   "id": "f2f045ac",
   "metadata": {},
   "source": [
    "We have a number of features with between 5% and 20% of missing data. We will now create several datasets where we treat this data differently, and see how it affects our machine learning performance."
   ]
  },
  {
   "cell_type": "markdown",
   "id": "e11065bc",
   "metadata": {},
   "source": [
    "### Dataset 0"
   ]
  },
  {
   "cell_type": "markdown",
   "id": "731cffc6",
   "metadata": {},
   "source": [
    "Here we simply remove all features with missing data."
   ]
  },
  {
   "cell_type": "code",
   "execution_count": 32,
   "id": "229341c6",
   "metadata": {},
   "outputs": [],
   "source": [
    "df_0 = df.copy(deep=True)"
   ]
  },
  {
   "cell_type": "code",
   "execution_count": 33,
   "id": "26bb9cd2",
   "metadata": {},
   "outputs": [],
   "source": [
    "feat_any_na = df_0.columns[df_0.apply(lambda col: np.mean(col.isna()))>0]\n",
    "df_0.drop(labels=feat_any_na,axis=1,inplace=True)"
   ]
  },
  {
   "cell_type": "markdown",
   "id": "1e2d80ff",
   "metadata": {},
   "source": [
    "### Dataset 1"
   ]
  },
  {
   "cell_type": "markdown",
   "id": "ca3c6b22",
   "metadata": {},
   "source": [
    "Here we remove all features that have over 15% of data missing. Then fill in all remaining missing data in a given feature, with the mean value of that feature."
   ]
  },
  {
   "cell_type": "code",
   "execution_count": 34,
   "id": "5b53037f",
   "metadata": {},
   "outputs": [],
   "source": [
    "df_1 = df.copy(deep=True)"
   ]
  },
  {
   "cell_type": "code",
   "execution_count": 35,
   "id": "376883dc",
   "metadata": {},
   "outputs": [],
   "source": [
    "feat_many_na = df_1.columns[df_1.apply(lambda col: np.mean(col.isna()))>0.15]\n",
    "df_1.drop(columns=feat_many_na,axis=1,inplace=True)"
   ]
  },
  {
   "cell_type": "code",
   "execution_count": 36,
   "id": "af4f5bd1",
   "metadata": {},
   "outputs": [],
   "source": [
    "for feat in df_1.columns:\n",
    "    df_1[feat].fillna(df_1[feat].mean(),inplace=True)"
   ]
  },
  {
   "cell_type": "markdown",
   "id": "bc477ed3",
   "metadata": {},
   "source": [
    "### Dataset 2"
   ]
  },
  {
   "cell_type": "markdown",
   "id": "d98d3889",
   "metadata": {},
   "source": [
    "Fill in all remaining missing data in a given feature, with the mean value of that feature."
   ]
  },
  {
   "cell_type": "code",
   "execution_count": 37,
   "id": "8ec264d9",
   "metadata": {},
   "outputs": [],
   "source": [
    "df_2 = df.copy(deep=True)"
   ]
  },
  {
   "cell_type": "code",
   "execution_count": 38,
   "id": "849c616c",
   "metadata": {},
   "outputs": [],
   "source": [
    "for feat in df_2.columns:\n",
    "    df_2[feat].fillna(df_2[feat].mean(),inplace=True)"
   ]
  },
  {
   "cell_type": "markdown",
   "id": "9a673db3",
   "metadata": {},
   "source": [
    "# Machine learning"
   ]
  },
  {
   "cell_type": "code",
   "execution_count": 39,
   "id": "40e047ed",
   "metadata": {},
   "outputs": [],
   "source": [
    "from sklearn.linear_model import LogisticRegression\n",
    "from sklearn.neighbors import KNeighborsClassifier\n",
    "from sklearn.ensemble import RandomForestClassifier\n",
    "\n",
    "from sklearn.model_selection import train_test_split\n",
    "from sklearn import preprocessing\n",
    "from sklearn.preprocessing import StandardScaler\n",
    "\n",
    "from sklearn.metrics import recall_score\n",
    "from sklearn.metrics import f1_score"
   ]
  },
  {
   "cell_type": "markdown",
   "id": "9103f1c7",
   "metadata": {},
   "source": [
    "We perform several machine learning algorithms on our three (i= 1, 2 or 3) datasets. Using features X[i] we want to predict CKD classification y[i]."
   ]
  },
  {
   "cell_type": "code",
   "execution_count": 40,
   "id": "719c9805",
   "metadata": {},
   "outputs": [],
   "source": [
    "X = [df_0.drop(columns=\"classification_ckd\",axis=1), df_1.drop(columns=\"classification_ckd\",axis=1), \n",
    "    df_2.drop(columns=\"classification_ckd\",axis=1)]\n",
    "y = [df_0[\"classification_ckd\"], df_1[\"classification_ckd\"], df_2[\"classification_ckd\"]]"
   ]
  },
  {
   "cell_type": "markdown",
   "id": "f8545a44",
   "metadata": {},
   "source": [
    "As we are trying to diagnose CKD before further tests we want to reduce false negatives. In other words we want to maximise recall = tp / (tp + fn) where tp = true positive and fn = false negative."
   ]
  },
  {
   "cell_type": "markdown",
   "id": "545c81c6",
   "metadata": {},
   "source": [
    "## A - Logistic regression"
   ]
  },
  {
   "cell_type": "markdown",
   "id": "e9dd0eb0",
   "metadata": {},
   "source": [
    "We predict CKD classification in three datasets with linear regression algorithm."
   ]
  },
  {
   "cell_type": "code",
   "execution_count": 41,
   "id": "25ca1090",
   "metadata": {},
   "outputs": [],
   "source": [
    "recall_log_reg, f1_log_reg = [], []\n",
    "\n",
    "for i in range(0,3):\n",
    "    min_max_scaler = preprocessing.MinMaxScaler()\n",
    "    X_minmax = min_max_scaler.fit_transform(X[i])\n",
    "    X_train, X_test, y_train, y_test = train_test_split(X_minmax, y[i], test_size=0.30)\n",
    "\n",
    "    logmodel = LogisticRegression()\n",
    "    logmodel.fit(X_train,y_train)\n",
    "    pred = logmodel.predict(X_test)\n",
    "    \n",
    "    recall_log_reg.append(recall_score(y_test,pred))\n",
    "    f1_log_reg.append(f1_score(y_test,pred))"
   ]
  },
  {
   "cell_type": "code",
   "execution_count": 42,
   "id": "1d4f3601",
   "metadata": {},
   "outputs": [
    {
     "name": "stdout",
     "output_type": "stream",
     "text": [
      "Recall from dataset A is 0.956, in dataset B it is 1.000 whilst in C is it 0.952.\n",
      "F1 from dataset A is 0.977, in dataset B it is 1.000 whilst in C is it 0.975.\n"
     ]
    }
   ],
   "source": [
    "print('Recall from dataset A is {:.3f}, in dataset B it is {:.3f} whilst in C is it {:.3f}.'.format(recall_log_reg[0],recall_log_reg[1],recall_log_reg[2]))\n",
    "print('F1 from dataset A is {:.3f}, in dataset B it is {:.3f} whilst in C is it {:.3f}.'.format(f1_log_reg[0],f1_log_reg[1],f1_log_reg[2]))"
   ]
  },
  {
   "cell_type": "markdown",
   "id": "5d6fa958",
   "metadata": {},
   "source": [
    "For logistic regreesion the best dataset is 1 or 2 - the best dataset flips between the two after repeating code. In these datasets at least some missing values in a given feature were replaced with mean of that feature. "
   ]
  },
  {
   "cell_type": "markdown",
   "id": "a0f72b0b",
   "metadata": {},
   "source": [
    "## K Nearest neighbours"
   ]
  },
  {
   "cell_type": "markdown",
   "id": "6cdc46e6",
   "metadata": {},
   "source": [
    "We predict CKD classification in three datasets with linear regression algorithm."
   ]
  },
  {
   "cell_type": "code",
   "execution_count": 43,
   "id": "1487ebe9",
   "metadata": {},
   "outputs": [],
   "source": [
    "recall_knn, f1_knn = [], []\n",
    "\n",
    "for i in range(0,3):\n",
    "    recall_vector, f1_vector = [], []\n",
    "    scaler = StandardScaler()\n",
    "    scaler.fit(X[i])\n",
    "    scaled_features = scaler.transform(X[i])\n",
    "      \n",
    "    X_train, X_test, y_train, y_test = train_test_split(scaled_features, y[i], test_size=0.30)\n",
    "    for k in range(1,30):\n",
    "        knn = KNeighborsClassifier(n_neighbors=k)\n",
    "        knn.fit(X_train,y_train)\n",
    "        pred = knn.predict(X_test)\n",
    "        \n",
    "        recall_vector.append(recall_score(y_test,pred))\n",
    "        f1_vector.append(f1_score(y_test,pred))\n",
    "    \n",
    "    recall_knn.append(recall_vector)\n",
    "    f1_knn.append(f1_vector)\n",
    "        "
   ]
  },
  {
   "cell_type": "code",
   "execution_count": 44,
   "id": "0694586a",
   "metadata": {},
   "outputs": [
    {
     "data": {
      "image/png": "[encoded data removed]",
      "text/plain": [
       "<Figure size 720x216 with 2 Axes>"
      ]
     },
     "metadata": {
      "needs_background": "light"
     },
     "output_type": "display_data"
    }
   ],
   "source": [
    "fig, axs = plt.subplots(1,2,figsize=(10,3))\n",
    "colour = ['b','g','r']\n",
    "for i in range(0,3):\n",
    "    axs[0].plot(range(1,30),recall_knn[i], color=colour[i], label='Dataset {}'.format(i))\n",
    "    axs[1].plot(range(1,30),f1_knn[i], color=colour[i], label='Dataset {}'.format(i))\n",
    "\n",
    "axs[0].set_xlabel('k'), axs[0].set_ylabel('Recall'), axs[0].legend()\n",
    "axs[1].set_xlabel('k'), axs[1].set_ylabel('F1'), axs[1].legend()\n",
    "\n",
    "fig.tight_layout()"
   ]
  },
  {
   "cell_type": "markdown",
   "id": "c2efce95",
   "metadata": {},
   "source": [
    "Here we can see that the best model is for k=1:"
   ]
  },
  {
   "cell_type": "code",
   "execution_count": 45,
   "id": "2fca71ce",
   "metadata": {},
   "outputs": [
    {
     "name": "stdout",
     "output_type": "stream",
     "text": [
      "For k=1 the recall values for dataset 0 is 0.983, 1 is 0.902 and 2 is 0.985.\n",
      "For k=1 the F1 values for dataset 0 is 0.975, 1 is 0.948 and 2 is 0.985.\n"
     ]
    }
   ],
   "source": [
    "print('For k=1 the recall values for dataset 0 is {:.3f}, 1 is {:.3f} and 2 is {:.3f}.'.format(recall_knn[0][0],recall_knn[1][0],recall_knn[2][0]))\n",
    "print('For k=1 the F1 values for dataset 0 is {:.3f}, 1 is {:.3f} and 2 is {:.3f}.'.format(f1_knn[0][0],f1_knn[1][0],f1_knn[2][0]))"
   ]
  },
  {
   "cell_type": "markdown",
   "id": "0a849f3c",
   "metadata": {},
   "source": [
    "For k nearest neighbours the best k value seems to be k = 1. The best dataset is either 1 or 2 from repeating code."
   ]
  },
  {
   "cell_type": "markdown",
   "id": "38bd6f8b",
   "metadata": {},
   "source": [
    "## Random forest"
   ]
  },
  {
   "cell_type": "code",
   "execution_count": 46,
   "id": "3c5ef167",
   "metadata": {},
   "outputs": [],
   "source": [
    "recall_random_forest, f1_random_forest = [], []\n",
    "\n",
    "for i in range(0,3):\n",
    "    \n",
    "    X_train, X_test, y_train, y_test = train_test_split(X[i], y[i], test_size=0.30)\n",
    "    rfc = RandomForestClassifier(n_estimators=1000)\n",
    "    rfc.fit(X_train,y_train)\n",
    "    pred = rfc.predict(X_test)\n",
    "\n",
    "    recall_random_forest.append(recall_score(y_test,pred))\n",
    "    f1_random_forest.append(f1_score(y_test,pred))"
   ]
  },
  {
   "cell_type": "code",
   "execution_count": 47,
   "id": "980f9e80",
   "metadata": {},
   "outputs": [
    {
     "name": "stdout",
     "output_type": "stream",
     "text": [
      "Recall from dataset A is 0.952, in dataset B it is 1.000 whilst in C is it 1.000.\n",
      "F1 from dataset A is 0.967, in dataset B it is 1.000 whilst in C is it 1.000.\n"
     ]
    }
   ],
   "source": [
    "print('Recall from dataset A is {:.3f}, in dataset B it is {:.3f} whilst in C is it {:.3f}.'.format(recall_random_forest[0],recall_random_forest[1],recall_random_forest[2]))\n",
    "print('F1 from dataset A is {:.3f}, in dataset B it is {:.3f} whilst in C is it {:.3f}.'.format(f1_random_forest[0],f1_random_forest[1],f1_random_forest[2]))"
   ]
  },
  {
   "cell_type": "markdown",
   "id": "ba280984",
   "metadata": {},
   "source": [
    "For random forest, upon repeating code, all datasets perform roughly equally."
   ]
  },
  {
   "cell_type": "markdown",
   "id": "ab20c009",
   "metadata": {},
   "source": [
    "# Conclusion"
   ]
  },
  {
   "cell_type": "markdown",
   "id": "7236459e",
   "metadata": {},
   "source": [
    "To conclude, CKD is successfully predicted using three supervised machine learning algorithms. High recall values (consistently over 0.9) were obtained for each algorithm incidating a low rate of false negatives - an important feature considering this algorithm would be a precursor to further diagnosis. On average the datasets that retained as many features as possible, by filling in missing entries with the mean of the feature performed best. Other methods of filling in missing values could be attempted - for example, finding correlations between two features and using one feature to predict the missing values in another feature.\n",
    "\n",
    "Further study could split the dataset in to three sections (train, validation and test) - optimum algorithms and parameters could then be chosen in the validation stage to get a more accurate final performance assessment. In addition, algorithms could have been repeatably ran to obtain average recall values to better determine their relative performance."
   ]
  }
 ],
 "metadata": {
  "kernelspec": {
   "display_name": "Python 3 (ipykernel)",
   "language": "python",
   "name": "python3"
  },
  "language_info": {
   "codemirror_mode": {
    "name": "ipython",
    "version": 3
   },
   "file_extension": ".py",
   "mimetype": "text/x-python",
   "name": "python",
   "nbconvert_exporter": "python",
   "pygments_lexer": "ipython3",
   "version": "3.9.12"
  }
 },
 "nbformat": 4,
 "nbformat_minor": 5
}
